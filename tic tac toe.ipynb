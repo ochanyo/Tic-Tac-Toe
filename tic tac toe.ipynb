{
 "cells": [
  {
   "cell_type": "code",
   "execution_count": 1,
   "metadata": {},
   "outputs": [
    {
     "name": "stdout",
     "output_type": "stream",
     "text": [
      "pygame 2.1.0 (SDL 2.0.16, Python 3.9.0)\n",
      "Hello from the pygame community. https://www.pygame.org/contribute.html\n"
     ]
    }
   ],
   "source": [
    "#importing requisite libraries\n",
    "import pygame as pg,sys\n",
    "from pygame.locals import *\n",
    "import time"
   ]
  },
  {
   "cell_type": "code",
   "execution_count": 2,
   "metadata": {},
   "outputs": [],
   "source": [
    "#setting uo global variables\n",
    "XO='x'\n",
    "winner=None\n",
    "draw=False\n",
    "#canvas height and width where the game will be played is 400*400\n",
    "width=400\n",
    "height=400\n",
    "white=(255,255,255)\n",
    "line_color=(10,10,10)\n",
    "#TicTacToe \n",
    "#TTT is the main baord that will have 9 values\n",
    "TTT=[[None]*3,[None]*3,[None]*3]"
   ]
  },
  {
   "cell_type": "code",
   "execution_count": 3,
   "metadata": {},
   "outputs": [],
   "source": [
    "#window intializing\n",
    "pg.init()\n",
    "fps=30\n",
    "CLOCK=pg.time.Clock()\n",
    "screen=pg.display.set_mode((width,height+100),0,32)\n",
    "pg.display.set_caption(\"Tic Tac Toe\")"
   ]
  },
  {
   "cell_type": "code",
   "execution_count": 5,
   "metadata": {},
   "outputs": [],
   "source": [
    "#loading images\n",
    "opening=pg.image.load('tic tac opening.png')\n",
    "x_img=pg.image.load('X.png')\n",
    "o_img=pg.image.load('O.png')\n",
    "\n",
    "#resizing images\n",
    "x_img=pg.transform.scale(x_img,(80,80))\n",
    "o_img=pg.transform.scale(o_img,(80,80))\n",
    "opening=pg.transform.scale(opening,(width,height+100))"
   ]
  },
  {
   "cell_type": "code",
   "execution_count": null,
   "metadata": {},
   "outputs": [],
   "source": []
  },
  {
   "cell_type": "code",
   "execution_count": null,
   "metadata": {},
   "outputs": [],
   "source": []
  },
  {
   "cell_type": "code",
   "execution_count": null,
   "metadata": {},
   "outputs": [],
   "source": []
  }
 ],
 "metadata": {
  "kernelspec": {
   "display_name": "Python 3",
   "language": "python",
   "name": "python3"
  },
  "language_info": {
   "codemirror_mode": {
    "name": "ipython",
    "version": 3
   },
   "file_extension": ".py",
   "mimetype": "text/x-python",
   "name": "python",
   "nbconvert_exporter": "python",
   "pygments_lexer": "ipython3",
   "version": "3.9.0"
  }
 },
 "nbformat": 4,
 "nbformat_minor": 4
}
